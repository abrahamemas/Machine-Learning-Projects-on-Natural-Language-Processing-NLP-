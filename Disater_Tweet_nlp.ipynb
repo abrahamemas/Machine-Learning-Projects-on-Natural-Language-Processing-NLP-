{
 "cells": [
  {
   "cell_type": "code",
   "execution_count": 31,
   "metadata": {},
   "outputs": [],
   "source": [
    "import numpy as np\n",
    "import pandas as pd\n",
    "import matplotlib.pyplot as plt\n",
    "import sklearn as sk\n",
    "import tensorflow as tf\n",
    "from tensorflow import keras\n",
    "from keras import layers\n",
    "from sklearn.model_selection import train_test_split\n",
    "from sklearn import metrics\n",
    "from sklearn.metrics import accuracy_score"
   ]
  },
  {
   "cell_type": "code",
   "execution_count": 32,
   "metadata": {},
   "outputs": [
    {
     "data": {
      "text/html": [
       "<div>\n",
       "<style scoped>\n",
       "    .dataframe tbody tr th:only-of-type {\n",
       "        vertical-align: middle;\n",
       "    }\n",
       "\n",
       "    .dataframe tbody tr th {\n",
       "        vertical-align: top;\n",
       "    }\n",
       "\n",
       "    .dataframe thead th {\n",
       "        text-align: right;\n",
       "    }\n",
       "</style>\n",
       "<table border=\"1\" class=\"dataframe\">\n",
       "  <thead>\n",
       "    <tr style=\"text-align: right;\">\n",
       "      <th></th>\n",
       "      <th>id</th>\n",
       "      <th>keyword</th>\n",
       "      <th>location</th>\n",
       "      <th>text</th>\n",
       "      <th>target</th>\n",
       "    </tr>\n",
       "  </thead>\n",
       "  <tbody>\n",
       "    <tr>\n",
       "      <th>0</th>\n",
       "      <td>0</td>\n",
       "      <td>ablaze</td>\n",
       "      <td>NaN</td>\n",
       "      <td>Communal violence in Bhainsa, Telangana. \"Ston...</td>\n",
       "      <td>1</td>\n",
       "    </tr>\n",
       "    <tr>\n",
       "      <th>1</th>\n",
       "      <td>1</td>\n",
       "      <td>ablaze</td>\n",
       "      <td>NaN</td>\n",
       "      <td>Telangana: Section 144 has been imposed in Bha...</td>\n",
       "      <td>1</td>\n",
       "    </tr>\n",
       "    <tr>\n",
       "      <th>2</th>\n",
       "      <td>2</td>\n",
       "      <td>ablaze</td>\n",
       "      <td>New York City</td>\n",
       "      <td>Arsonist sets cars ablaze at dealership https:...</td>\n",
       "      <td>1</td>\n",
       "    </tr>\n",
       "    <tr>\n",
       "      <th>3</th>\n",
       "      <td>3</td>\n",
       "      <td>ablaze</td>\n",
       "      <td>Morgantown, WV</td>\n",
       "      <td>Arsonist sets cars ablaze at dealership https:...</td>\n",
       "      <td>1</td>\n",
       "    </tr>\n",
       "    <tr>\n",
       "      <th>4</th>\n",
       "      <td>4</td>\n",
       "      <td>ablaze</td>\n",
       "      <td>NaN</td>\n",
       "      <td>\"Lord Jesus, your love brings freedom and pard...</td>\n",
       "      <td>0</td>\n",
       "    </tr>\n",
       "    <tr>\n",
       "      <th>5</th>\n",
       "      <td>5</td>\n",
       "      <td>ablaze</td>\n",
       "      <td>OC</td>\n",
       "      <td>If this child was Chinese, this tweet would ha...</td>\n",
       "      <td>0</td>\n",
       "    </tr>\n",
       "    <tr>\n",
       "      <th>6</th>\n",
       "      <td>6</td>\n",
       "      <td>ablaze</td>\n",
       "      <td>London, England</td>\n",
       "      <td>Several houses have been set ablaze in Ngemsib...</td>\n",
       "      <td>1</td>\n",
       "    </tr>\n",
       "    <tr>\n",
       "      <th>7</th>\n",
       "      <td>7</td>\n",
       "      <td>ablaze</td>\n",
       "      <td>Bharat</td>\n",
       "      <td>Asansol: A BJP office in Salanpur village was ...</td>\n",
       "      <td>1</td>\n",
       "    </tr>\n",
       "    <tr>\n",
       "      <th>8</th>\n",
       "      <td>8</td>\n",
       "      <td>ablaze</td>\n",
       "      <td>Accra, Ghana</td>\n",
       "      <td>National Security Minister, Kan Dapaah's side ...</td>\n",
       "      <td>0</td>\n",
       "    </tr>\n",
       "    <tr>\n",
       "      <th>9</th>\n",
       "      <td>9</td>\n",
       "      <td>ablaze</td>\n",
       "      <td>Searching</td>\n",
       "      <td>This creature who’s soul is no longer clarent ...</td>\n",
       "      <td>0</td>\n",
       "    </tr>\n",
       "  </tbody>\n",
       "</table>\n",
       "</div>"
      ],
      "text/plain": [
       "   id keyword         location  \\\n",
       "0   0  ablaze              NaN   \n",
       "1   1  ablaze              NaN   \n",
       "2   2  ablaze    New York City   \n",
       "3   3  ablaze   Morgantown, WV   \n",
       "4   4  ablaze              NaN   \n",
       "5   5  ablaze               OC   \n",
       "6   6  ablaze  London, England   \n",
       "7   7  ablaze           Bharat   \n",
       "8   8  ablaze     Accra, Ghana   \n",
       "9   9  ablaze        Searching   \n",
       "\n",
       "                                                text  target  \n",
       "0  Communal violence in Bhainsa, Telangana. \"Ston...       1  \n",
       "1  Telangana: Section 144 has been imposed in Bha...       1  \n",
       "2  Arsonist sets cars ablaze at dealership https:...       1  \n",
       "3  Arsonist sets cars ablaze at dealership https:...       1  \n",
       "4  \"Lord Jesus, your love brings freedom and pard...       0  \n",
       "5  If this child was Chinese, this tweet would ha...       0  \n",
       "6  Several houses have been set ablaze in Ngemsib...       1  \n",
       "7  Asansol: A BJP office in Salanpur village was ...       1  \n",
       "8  National Security Minister, Kan Dapaah's side ...       0  \n",
       "9  This creature who’s soul is no longer clarent ...       0  "
      ]
     },
     "execution_count": 32,
     "metadata": {},
     "output_type": "execute_result"
    }
   ],
   "source": [
    "Data = pd.read_csv('tweets.csv')\n",
    "Data.head(10)"
   ]
  },
  {
   "cell_type": "code",
   "execution_count": 33,
   "metadata": {},
   "outputs": [
    {
     "data": {
      "text/html": [
       "<div>\n",
       "<style scoped>\n",
       "    .dataframe tbody tr th:only-of-type {\n",
       "        vertical-align: middle;\n",
       "    }\n",
       "\n",
       "    .dataframe tbody tr th {\n",
       "        vertical-align: top;\n",
       "    }\n",
       "\n",
       "    .dataframe thead th {\n",
       "        text-align: right;\n",
       "    }\n",
       "</style>\n",
       "<table border=\"1\" class=\"dataframe\">\n",
       "  <thead>\n",
       "    <tr style=\"text-align: right;\">\n",
       "      <th></th>\n",
       "      <th>id</th>\n",
       "      <th>keyword</th>\n",
       "      <th>location</th>\n",
       "      <th>text</th>\n",
       "      <th>target</th>\n",
       "    </tr>\n",
       "  </thead>\n",
       "  <tbody>\n",
       "    <tr>\n",
       "      <th>11365</th>\n",
       "      <td>11365</td>\n",
       "      <td>wrecked</td>\n",
       "      <td>Blue State in a red sea</td>\n",
       "      <td>Media should have warned us well in advance. T...</td>\n",
       "      <td>0</td>\n",
       "    </tr>\n",
       "    <tr>\n",
       "      <th>11366</th>\n",
       "      <td>11366</td>\n",
       "      <td>wrecked</td>\n",
       "      <td>arohaonces</td>\n",
       "      <td>i feel directly attacked 💀 i consider moonbin ...</td>\n",
       "      <td>0</td>\n",
       "    </tr>\n",
       "    <tr>\n",
       "      <th>11367</th>\n",
       "      <td>11367</td>\n",
       "      <td>wrecked</td>\n",
       "      <td>🇵🇭</td>\n",
       "      <td>i feel directly attacked 💀 i consider moonbin ...</td>\n",
       "      <td>0</td>\n",
       "    </tr>\n",
       "    <tr>\n",
       "      <th>11368</th>\n",
       "      <td>11368</td>\n",
       "      <td>wrecked</td>\n",
       "      <td>auroraborealis</td>\n",
       "      <td>ok who remember \"outcast\" nd the \"dora\" au?? T...</td>\n",
       "      <td>0</td>\n",
       "    </tr>\n",
       "    <tr>\n",
       "      <th>11369</th>\n",
       "      <td>11369</td>\n",
       "      <td>wrecked</td>\n",
       "      <td>NaN</td>\n",
       "      <td>Jake Corway wrecked while running 14th at IRP.</td>\n",
       "      <td>1</td>\n",
       "    </tr>\n",
       "  </tbody>\n",
       "</table>\n",
       "</div>"
      ],
      "text/plain": [
       "          id  keyword                 location  \\\n",
       "11365  11365  wrecked  Blue State in a red sea   \n",
       "11366  11366  wrecked               arohaonces   \n",
       "11367  11367  wrecked                       🇵🇭   \n",
       "11368  11368  wrecked           auroraborealis   \n",
       "11369  11369  wrecked                      NaN   \n",
       "\n",
       "                                                    text  target  \n",
       "11365  Media should have warned us well in advance. T...       0  \n",
       "11366  i feel directly attacked 💀 i consider moonbin ...       0  \n",
       "11367  i feel directly attacked 💀 i consider moonbin ...       0  \n",
       "11368  ok who remember \"outcast\" nd the \"dora\" au?? T...       0  \n",
       "11369     Jake Corway wrecked while running 14th at IRP.       1  "
      ]
     },
     "execution_count": 33,
     "metadata": {},
     "output_type": "execute_result"
    }
   ],
   "source": [
    "Data.tail()"
   ]
  },
  {
   "cell_type": "code",
   "execution_count": 34,
   "metadata": {},
   "outputs": [],
   "source": [
    "#Now that we have imported the data we need to understand some things\n",
    "#1 what is our dataset saying to us \n",
    "#2 what are the  problems of our data\n",
    "#3 what are the things not needed in my dataset\n",
    "#4 which algorithm should i use is it supervised or unsupervised\n",
    "#5 if supervised which algorithm is the best to solve my problem"
   ]
  },
  {
   "cell_type": "code",
   "execution_count": 35,
   "metadata": {},
   "outputs": [
    {
     "data": {
      "text/html": [
       "<div>\n",
       "<style scoped>\n",
       "    .dataframe tbody tr th:only-of-type {\n",
       "        vertical-align: middle;\n",
       "    }\n",
       "\n",
       "    .dataframe tbody tr th {\n",
       "        vertical-align: top;\n",
       "    }\n",
       "\n",
       "    .dataframe thead th {\n",
       "        text-align: right;\n",
       "    }\n",
       "</style>\n",
       "<table border=\"1\" class=\"dataframe\">\n",
       "  <thead>\n",
       "    <tr style=\"text-align: right;\">\n",
       "      <th></th>\n",
       "      <th>Column</th>\n",
       "      <th>Missing_Count</th>\n",
       "      <th>Missing_Percentage</th>\n",
       "    </tr>\n",
       "  </thead>\n",
       "  <tbody>\n",
       "    <tr>\n",
       "      <th>2</th>\n",
       "      <td>location</td>\n",
       "      <td>3418</td>\n",
       "      <td>30.06</td>\n",
       "    </tr>\n",
       "    <tr>\n",
       "      <th>0</th>\n",
       "      <td>id</td>\n",
       "      <td>0</td>\n",
       "      <td>0.00</td>\n",
       "    </tr>\n",
       "    <tr>\n",
       "      <th>1</th>\n",
       "      <td>keyword</td>\n",
       "      <td>0</td>\n",
       "      <td>0.00</td>\n",
       "    </tr>\n",
       "    <tr>\n",
       "      <th>3</th>\n",
       "      <td>text</td>\n",
       "      <td>0</td>\n",
       "      <td>0.00</td>\n",
       "    </tr>\n",
       "    <tr>\n",
       "      <th>4</th>\n",
       "      <td>target</td>\n",
       "      <td>0</td>\n",
       "      <td>0.00</td>\n",
       "    </tr>\n",
       "  </tbody>\n",
       "</table>\n",
       "</div>"
      ],
      "text/plain": [
       "     Column  Missing_Count  Missing_Percentage\n",
       "2  location           3418               30.06\n",
       "0        id              0                0.00\n",
       "1   keyword              0                0.00\n",
       "3      text              0                0.00\n",
       "4    target              0                0.00"
      ]
     },
     "execution_count": 35,
     "metadata": {},
     "output_type": "execute_result"
    }
   ],
   "source": [
    "def missing_data(Data):\n",
    "    missing_data_count = Data.isnull().sum()*100 / Data.shape[0]\n",
    "    Data_missing_count = pd.DataFrame(missing_data_count).round(2)\n",
    "    Data_missing_count = Data_missing_count.reset_index().rename(\n",
    "               columns= {\n",
    "                       'index': 'Column',\n",
    "                        0 : 'Missing_Percentage',\n",
    "               }\n",
    ")\n",
    "    Data_missing_value = Data.isnull().sum()\n",
    "    Data_missing_value = Data_missing_value.reset_index().rename(\n",
    "                columns= {\n",
    "                    'index': 'Column',\n",
    "                     0: 'Missing_Count',\n",
    "                }\n",
    ")\n",
    "    Final = Data_missing_value.merge(Data_missing_count,how = 'inner', left_on = 'Column', right_on = 'Column')  \n",
    "    Final = Final.sort_values(by = 'Missing_Count', ascending = False)\n",
    "    return Final\n",
    "\n",
    "missing_data(Data)"
   ]
  },
  {
   "cell_type": "code",
   "execution_count": 36,
   "metadata": {},
   "outputs": [
    {
     "name": "stdout",
     "output_type": "stream",
     "text": [
      "<class 'pandas.core.frame.DataFrame'>\n",
      "RangeIndex: 11370 entries, 0 to 11369\n",
      "Data columns (total 5 columns):\n",
      " #   Column    Non-Null Count  Dtype \n",
      "---  ------    --------------  ----- \n",
      " 0   id        11370 non-null  int64 \n",
      " 1   keyword   11370 non-null  object\n",
      " 2   location  7952 non-null   object\n",
      " 3   text      11370 non-null  object\n",
      " 4   target    11370 non-null  int64 \n",
      "dtypes: int64(2), object(3)\n",
      "memory usage: 444.3+ KB\n"
     ]
    }
   ],
   "source": [
    "Data.info()"
   ]
  },
  {
   "cell_type": "code",
   "execution_count": 37,
   "metadata": {},
   "outputs": [
    {
     "data": {
      "text/html": [
       "<div>\n",
       "<style scoped>\n",
       "    .dataframe tbody tr th:only-of-type {\n",
       "        vertical-align: middle;\n",
       "    }\n",
       "\n",
       "    .dataframe tbody tr th {\n",
       "        vertical-align: top;\n",
       "    }\n",
       "\n",
       "    .dataframe thead th {\n",
       "        text-align: right;\n",
       "    }\n",
       "</style>\n",
       "<table border=\"1\" class=\"dataframe\">\n",
       "  <thead>\n",
       "    <tr style=\"text-align: right;\">\n",
       "      <th></th>\n",
       "      <th>id</th>\n",
       "      <th>target</th>\n",
       "    </tr>\n",
       "  </thead>\n",
       "  <tbody>\n",
       "    <tr>\n",
       "      <th>count</th>\n",
       "      <td>11370.000000</td>\n",
       "      <td>11370.000000</td>\n",
       "    </tr>\n",
       "    <tr>\n",
       "      <th>mean</th>\n",
       "      <td>5684.500000</td>\n",
       "      <td>0.185928</td>\n",
       "    </tr>\n",
       "    <tr>\n",
       "      <th>std</th>\n",
       "      <td>3282.380615</td>\n",
       "      <td>0.389066</td>\n",
       "    </tr>\n",
       "    <tr>\n",
       "      <th>min</th>\n",
       "      <td>0.000000</td>\n",
       "      <td>0.000000</td>\n",
       "    </tr>\n",
       "    <tr>\n",
       "      <th>25%</th>\n",
       "      <td>2842.250000</td>\n",
       "      <td>0.000000</td>\n",
       "    </tr>\n",
       "    <tr>\n",
       "      <th>50%</th>\n",
       "      <td>5684.500000</td>\n",
       "      <td>0.000000</td>\n",
       "    </tr>\n",
       "    <tr>\n",
       "      <th>75%</th>\n",
       "      <td>8526.750000</td>\n",
       "      <td>0.000000</td>\n",
       "    </tr>\n",
       "    <tr>\n",
       "      <th>max</th>\n",
       "      <td>11369.000000</td>\n",
       "      <td>1.000000</td>\n",
       "    </tr>\n",
       "  </tbody>\n",
       "</table>\n",
       "</div>"
      ],
      "text/plain": [
       "                 id        target\n",
       "count  11370.000000  11370.000000\n",
       "mean    5684.500000      0.185928\n",
       "std     3282.380615      0.389066\n",
       "min        0.000000      0.000000\n",
       "25%     2842.250000      0.000000\n",
       "50%     5684.500000      0.000000\n",
       "75%     8526.750000      0.000000\n",
       "max    11369.000000      1.000000"
      ]
     },
     "execution_count": 37,
     "metadata": {},
     "output_type": "execute_result"
    }
   ],
   "source": [
    "Data.describe()"
   ]
  },
  {
   "cell_type": "code",
   "execution_count": 38,
   "metadata": {},
   "outputs": [
    {
     "data": {
      "text/plain": [
       "'Communal violence in Bhainsa, Telangana. \"Stones were pelted on Muslims\\' houses and some houses and vehicles were set ablaze…'"
      ]
     },
     "execution_count": 38,
     "metadata": {},
     "output_type": "execute_result"
    }
   ],
   "source": [
    "Data['text'][0]"
   ]
  },
  {
   "cell_type": "code",
   "execution_count": 39,
   "metadata": {},
   "outputs": [],
   "source": [
    "Data_shuffled = Data.sample(frac=1,random_state=42)"
   ]
  },
  {
   "cell_type": "code",
   "execution_count": 40,
   "metadata": {},
   "outputs": [
    {
     "data": {
      "text/html": [
       "<div>\n",
       "<style scoped>\n",
       "    .dataframe tbody tr th:only-of-type {\n",
       "        vertical-align: middle;\n",
       "    }\n",
       "\n",
       "    .dataframe tbody tr th {\n",
       "        vertical-align: top;\n",
       "    }\n",
       "\n",
       "    .dataframe thead th {\n",
       "        text-align: right;\n",
       "    }\n",
       "</style>\n",
       "<table border=\"1\" class=\"dataframe\">\n",
       "  <thead>\n",
       "    <tr style=\"text-align: right;\">\n",
       "      <th></th>\n",
       "      <th>id</th>\n",
       "      <th>keyword</th>\n",
       "      <th>location</th>\n",
       "      <th>text</th>\n",
       "      <th>target</th>\n",
       "    </tr>\n",
       "  </thead>\n",
       "  <tbody>\n",
       "    <tr>\n",
       "      <th>3495</th>\n",
       "      <td>3495</td>\n",
       "      <td>demolished</td>\n",
       "      <td>Observation drone</td>\n",
       "      <td>How many illegal buildings should be demolishe...</td>\n",
       "      <td>0</td>\n",
       "    </tr>\n",
       "    <tr>\n",
       "      <th>5461</th>\n",
       "      <td>5461</td>\n",
       "      <td>fatality</td>\n",
       "      <td>NaN</td>\n",
       "      <td>Who’s fatality is this tho ????</td>\n",
       "      <td>0</td>\n",
       "    </tr>\n",
       "    <tr>\n",
       "      <th>9794</th>\n",
       "      <td>9794</td>\n",
       "      <td>sunk</td>\n",
       "      <td>London</td>\n",
       "      <td>#OnThisDay 2018 Chinese state media confirmed ...</td>\n",
       "      <td>1</td>\n",
       "    </tr>\n",
       "    <tr>\n",
       "      <th>11105</th>\n",
       "      <td>11105</td>\n",
       "      <td>windstorm</td>\n",
       "      <td>London, UK</td>\n",
       "      <td>With any luck you will miss the windstorm on e...</td>\n",
       "      <td>0</td>\n",
       "    </tr>\n",
       "    <tr>\n",
       "      <th>1803</th>\n",
       "      <td>1803</td>\n",
       "      <td>buildings%20on%20fire</td>\n",
       "      <td>NaN</td>\n",
       "      <td>Inferno on Black Friday 1939: 71 deaths, 3,700...</td>\n",
       "      <td>1</td>\n",
       "    </tr>\n",
       "  </tbody>\n",
       "</table>\n",
       "</div>"
      ],
      "text/plain": [
       "          id                keyword           location  \\\n",
       "3495    3495             demolished  Observation drone   \n",
       "5461    5461               fatality                NaN   \n",
       "9794    9794                   sunk             London   \n",
       "11105  11105              windstorm         London, UK   \n",
       "1803    1803  buildings%20on%20fire                NaN   \n",
       "\n",
       "                                                    text  target  \n",
       "3495   How many illegal buildings should be demolishe...       0  \n",
       "5461                     Who’s fatality is this tho ????       0  \n",
       "9794   #OnThisDay 2018 Chinese state media confirmed ...       1  \n",
       "11105  With any luck you will miss the windstorm on e...       0  \n",
       "1803   Inferno on Black Friday 1939: 71 deaths, 3,700...       1  "
      ]
     },
     "execution_count": 40,
     "metadata": {},
     "output_type": "execute_result"
    }
   ],
   "source": [
    "Data_shuffled.head()"
   ]
  },
  {
   "cell_type": "code",
   "execution_count": 41,
   "metadata": {},
   "outputs": [
    {
     "data": {
      "text/plain": [
       "0    9256\n",
       "1    2114\n",
       "Name: target, dtype: int64"
      ]
     },
     "execution_count": 41,
     "metadata": {},
     "output_type": "execute_result"
    }
   ],
   "source": [
    "Data.target.value_counts()"
   ]
  },
  {
   "cell_type": "code",
   "execution_count": 42,
   "metadata": {},
   "outputs": [
    {
     "name": "stdout",
     "output_type": "stream",
     "text": [
      "Target:1 Disater Tweet\n",
      "Text:\n",
      "A DSP Dalvinder Singh was caught with two terrorists!! No screaming and yelling by Arnab of or Navika of …\n",
      "\n",
      "---\n",
      "\n",
      "Target:0 NOT Disater Tweet\n",
      "Text:\n",
      "if u hate rats.. just remember that im out there and plague outbreak risks are high\n",
      "\n",
      "---\n",
      "\n",
      "Target:0 NOT Disater Tweet\n",
      "Text:\n",
      "my suggestion: yell angry things as Gaeilge at him until he gets the hint. Alternate suggestion: spike-li… https://t.co/2YvB6cfitk\n",
      "\n",
      "---\n",
      "\n",
      "Target:1 Disater Tweet\n",
      "Text:\n",
      "Too bad. Six people death, four still missing as sinkhole in China swallows bus with passengers https://t.co/EBFGY3po4Y\n",
      "\n",
      "---\n",
      "\n",
      "Target:0 NOT Disater Tweet\n",
      "Text:\n",
      "the info, the thoughts, suffering, images, it's such an unholy inundation of misery. the world is a living, writhing nigh…\n",
      "\n",
      "---\n",
      "\n"
     ]
    }
   ],
   "source": [
    "import random\n",
    "random_index = random.randint(0, len(Data) -5)\n",
    "for row in Data_shuffled[['text','target']][random_index:random_index + 5].itertuples():\n",
    "    __,Text,Target = row\n",
    "    print(f'Target:{Target}','NOT Disater Tweet' if Target < 1 else 'Disater Tweet')\n",
    "    print(f'Text:\\n{Text}\\n')\n",
    "    print('---\\n')\n"
   ]
  },
  {
   "cell_type": "code",
   "execution_count": 43,
   "metadata": {},
   "outputs": [],
   "source": [
    "Train_sentences,Val_sentences,Train_labels,Val_labels = train_test_split(Data_shuffled['text'].to_numpy(),\n",
    "                                                                         Data_shuffled['target'].to_numpy(),\n",
    "                                                                         test_size = 0.1,\n",
    "                                                                         random_state=42)"
   ]
  },
  {
   "cell_type": "code",
   "execution_count": 44,
   "metadata": {},
   "outputs": [
    {
     "data": {
      "text/plain": [
       "(10233, 10233, 1137, 1137)"
      ]
     },
     "execution_count": 44,
     "metadata": {},
     "output_type": "execute_result"
    }
   ],
   "source": [
    "len(Train_sentences),len(Train_labels),len(Val_sentences),len(Val_labels)"
   ]
  },
  {
   "cell_type": "code",
   "execution_count": 45,
   "metadata": {},
   "outputs": [
    {
     "data": {
      "text/plain": [
       "11370"
      ]
     },
     "execution_count": 45,
     "metadata": {},
     "output_type": "execute_result"
    }
   ],
   "source": [
    "len(Data_shuffled)"
   ]
  },
  {
   "cell_type": "code",
   "execution_count": 46,
   "metadata": {},
   "outputs": [
    {
     "data": {
      "text/plain": [
       "(array(['🔻 GDP % at 6 yr low 🔺 Inflation at 6 yr high 🔻 Nominal GDP% at 45 yr low 🔺 Unemployment at 45 yr high 🔺 Petrol @ 80 🔺 Oni…',\n",
       "        'SHAMEFUL \"BEMIDJI -- With applause from a loud, passionate crowd Beltrami County on Tuesday, Jan. 7, became the first lo…',\n",
       "        'Avalanches hit Army &amp; BSF posts, 4 jawans rescued but 1 jawan is still missing. Bad weather hampers rescue operations. https:…',\n",
       "        \"Meanwhile in The Shawa after today's emergency alert #PickeringNuclearStation #radiation https://t.co/pn3jzVhuV3\",\n",
       "        'Oh fuck I’m dying. Trevor is tossing out body bags today.'],\n",
       "       dtype=object),\n",
       " array([0, 0, 1, 0, 0], dtype=int64))"
      ]
     },
     "execution_count": 46,
     "metadata": {},
     "output_type": "execute_result"
    }
   ],
   "source": [
    "Train_sentences[:5],Train_labels[:5]"
   ]
  },
  {
   "cell_type": "code",
   "execution_count": 47,
   "metadata": {},
   "outputs": [],
   "source": [
    "import tensorflow as tf\n",
    "from tensorflow.keras.layers.experimental.preprocessing import TextVectorization"
   ]
  },
  {
   "cell_type": "code",
   "execution_count": 48,
   "metadata": {},
   "outputs": [],
   "source": [
    "max_vocab_length = 10000\n",
    "max_length = 15"
   ]
  },
  {
   "cell_type": "code",
   "execution_count": 49,
   "metadata": {},
   "outputs": [],
   "source": [
    "text_vectorizer = TextVectorization(\n",
    "    max_tokens=None,\n",
    "    standardize=\"lower_and_strip_punctuation\",\n",
    "    split=\"whitespace\",\n",
    "    ngrams=None,\n",
    "    output_mode=\"int\",\n",
    "    output_sequence_length=None,\n",
    "    pad_to_max_tokens=False,)"
   ]
  },
  {
   "cell_type": "code",
   "execution_count": 50,
   "metadata": {},
   "outputs": [],
   "source": [
    "Text_vectorizer = TextVectorization(max_tokens = max_vocab_length,\n",
    "                                    output_mode = 'int',\n",
    "                                    output_sequence_length = max_length)"
   ]
  },
  {
   "cell_type": "code",
   "execution_count": 51,
   "metadata": {},
   "outputs": [
    {
     "data": {
      "text/plain": [
       "32"
      ]
     },
     "execution_count": 51,
     "metadata": {},
     "output_type": "execute_result"
    }
   ],
   "source": [
    "len(Train_sentences[0].split())"
   ]
  },
  {
   "cell_type": "code",
   "execution_count": 52,
   "metadata": {},
   "outputs": [
    {
     "data": {
      "text/plain": [
       "['🔻',\n",
       " 'GDP',\n",
       " '%',\n",
       " 'at',\n",
       " '6',\n",
       " 'yr',\n",
       " 'low',\n",
       " '🔺',\n",
       " 'Inflation',\n",
       " 'at',\n",
       " '6',\n",
       " 'yr',\n",
       " 'high',\n",
       " '🔻',\n",
       " 'Nominal',\n",
       " 'GDP%',\n",
       " 'at',\n",
       " '45',\n",
       " 'yr',\n",
       " 'low',\n",
       " '🔺',\n",
       " 'Unemployment',\n",
       " 'at',\n",
       " '45',\n",
       " 'yr',\n",
       " 'high',\n",
       " '🔺',\n",
       " 'Petrol',\n",
       " '@',\n",
       " '80',\n",
       " '🔺',\n",
       " 'Oni…']"
      ]
     },
     "execution_count": 52,
     "metadata": {},
     "output_type": "execute_result"
    }
   ],
   "source": [
    "Train_sentences[0].split()"
   ]
  },
  {
   "cell_type": "code",
   "execution_count": 53,
   "metadata": {},
   "outputs": [
    {
     "data": {
      "text/plain": [
       "17"
      ]
     },
     "execution_count": 53,
     "metadata": {},
     "output_type": "execute_result"
    }
   ],
   "source": [
    "round(sum([len(i.split()) for i in Train_sentences])/len(Train_sentences))"
   ]
  },
  {
   "cell_type": "code",
   "execution_count": 54,
   "metadata": {},
   "outputs": [],
   "source": [
    "Text_vectorizer.adapt(Train_sentences)"
   ]
  },
  {
   "cell_type": "code",
   "execution_count": 55,
   "metadata": {},
   "outputs": [
    {
     "data": {
      "text/plain": [
       "<tf.Tensor: shape=(1, 15), dtype=int64, numpy=\n",
       "array([[   9,  143, 1889,  240,    7, 2219,    0,    0,    0,    0,    0,\n",
       "           0,    0,    0,    0]], dtype=int64)>"
      ]
     },
     "execution_count": 55,
     "metadata": {},
     "output_type": "execute_result"
    }
   ],
   "source": [
    "sample_sentence = 'I love football always and forever'\n",
    "Text_vectorizer([sample_sentence])"
   ]
  },
  {
   "cell_type": "code",
   "execution_count": 56,
   "metadata": {},
   "outputs": [
    {
     "name": "stdout",
     "output_type": "stream",
     "text": [
      "Original text:\n",
      " Telnet backdoor opens 1M+ #IoT radios to hijack. Attackers can drop #malware, add the device to a botnet or send their own…    \n",
      "\n",
      "Vectorized version:\n"
     ]
    },
    {
     "data": {
      "text/plain": [
       "<tf.Tensor: shape=(1, 15), dtype=int64, numpy=\n",
       "array([[   1, 6246, 1996,    1, 8391,    1,    3,  830, 3853,   49, 1446,\n",
       "           1, 1936,    2, 3751]], dtype=int64)>"
      ]
     },
     "execution_count": 56,
     "metadata": {},
     "output_type": "execute_result"
    }
   ],
   "source": [
    "random_sentence = random.choice(Train_sentences)\n",
    "print(f'Original text:\\n {random_sentence}\\\n",
    "    \\n\\nVectorized version:')\n",
    "Text_vectorizer([random_sentence])"
   ]
  },
  {
   "cell_type": "code",
   "execution_count": 57,
   "metadata": {},
   "outputs": [
    {
     "data": {
      "text/plain": [
       "<keras.layers.core.embedding.Embedding at 0x213a1d3bd90>"
      ]
     },
     "execution_count": 57,
     "metadata": {},
     "output_type": "execute_result"
    }
   ],
   "source": [
    "from tensorflow.keras import  layers\n",
    "embedding = layers.Embedding(input_dim = max_vocab_length,\n",
    "                             output_dim = 128,\n",
    "                             embeddings_initializer='uniform',\n",
    "                             input_length = max_length)\n",
    "embedding"
   ]
  },
  {
   "cell_type": "code",
   "execution_count": 58,
   "metadata": {},
   "outputs": [
    {
     "name": "stdout",
     "output_type": "stream",
     "text": [
      "Original text:\n",
      " 200114 Army: everyone help the Philippine ARMYs... please.🙏🏻 #PrayforThePhilippines V: these my heart hurts a lot. plea…    \n",
      "\n",
      "Embedded version:\n"
     ]
    },
    {
     "data": {
      "text/plain": [
       "<tf.Tensor: shape=(1, 15, 128), dtype=float32, numpy=\n",
       "array([[[-5.9388652e-03,  3.4871247e-02,  2.4203781e-02, ...,\n",
       "          2.0155419e-02,  3.0349676e-02,  3.6196496e-02],\n",
       "        [ 3.7085507e-02,  3.9435897e-02, -3.6928128e-02, ...,\n",
       "         -1.1354625e-02,  2.1473017e-02, -1.5304804e-02],\n",
       "        [-2.0642234e-02, -5.6622401e-03,  2.2385780e-02, ...,\n",
       "          2.3334097e-02,  3.4723613e-02,  4.4364695e-02],\n",
       "        ...,\n",
       "        [ 1.3190135e-03, -5.2034855e-05, -1.2083102e-02, ...,\n",
       "         -1.0186650e-02,  1.7207231e-02,  1.4497545e-02],\n",
       "        [ 1.6335700e-02, -4.7901940e-02,  5.4353476e-03, ...,\n",
       "          4.8815560e-02, -4.9407184e-02,  1.3194252e-02],\n",
       "        [-4.7256541e-02,  3.6661241e-02,  3.5488497e-02, ...,\n",
       "         -3.1789862e-02,  1.4147017e-02,  4.9874846e-02]]], dtype=float32)>"
      ]
     },
     "execution_count": 58,
     "metadata": {},
     "output_type": "execute_result"
    }
   ],
   "source": [
    "random_sentence = random.choice(Train_sentences)\n",
    "print(f'Original text:\\n {random_sentence}\\\n",
    "    \\n\\nEmbedded version:')\n",
    "sample_embed = embedding(Text_vectorizer([random_sentence]))\n",
    "sample_embed"
   ]
  },
  {
   "cell_type": "markdown",
   "metadata": {},
   "source": [
    "RNN MODEL LSTM"
   ]
  },
  {
   "cell_type": "markdown",
   "metadata": {},
   "source": [
    "Input(text) -> Tokenize -> Embedding -> Layers(Rnns/dense) -> Output (label probability)"
   ]
  },
  {
   "cell_type": "code",
   "execution_count": 59,
   "metadata": {},
   "outputs": [
    {
     "name": "stdout",
     "output_type": "stream",
     "text": [
      "(None, 15, 128)\n",
      "(None, 15, 64)\n",
      "(None, 64)\n"
     ]
    }
   ],
   "source": [
    "from tensorflow.keras import layers\n",
    "Inputs = layers.Input(shape = (1,), dtype = \"string\")\n",
    "x = Text_vectorizer(Inputs)\n",
    "x = embedding(x)\n",
    "print(x.shape)\n",
    "x = layers.LSTM(64,return_sequences=True)(x)\n",
    "print(x.shape)\n",
    "x = layers.LSTM(64)(x)\n",
    "print(x.shape)\n",
    "x = layers.Dense(64, activation = 'relu')(x)\n",
    "outputs = layers.Dense(1, activation = 'sigmoid')(x)\n",
    "model = tf.keras.Model(Inputs,outputs, name = 'model_LSTM')\n"
   ]
  },
  {
   "cell_type": "code",
   "execution_count": 60,
   "metadata": {},
   "outputs": [
    {
     "name": "stdout",
     "output_type": "stream",
     "text": [
      "Epoch 1/5\n",
      "320/320 [==============================] - 34s 59ms/step - loss: 0.3378 - accuracy: 0.8731 - val_loss: 0.2865 - val_accuracy: 0.8945\n",
      "Epoch 2/5\n",
      "320/320 [==============================] - 19s 58ms/step - loss: 0.1824 - accuracy: 0.9332 - val_loss: 0.3010 - val_accuracy: 0.8874\n",
      "Epoch 3/5\n",
      "320/320 [==============================] - 22s 68ms/step - loss: 0.1086 - accuracy: 0.9617 - val_loss: 0.3825 - val_accuracy: 0.8804\n",
      "Epoch 4/5\n",
      "320/320 [==============================] - 23s 71ms/step - loss: 0.0610 - accuracy: 0.9802 - val_loss: 0.5347 - val_accuracy: 0.8804\n",
      "Epoch 5/5\n",
      "320/320 [==============================] - 21s 65ms/step - loss: 0.0375 - accuracy: 0.9865 - val_loss: 0.5125 - val_accuracy: 0.8777\n"
     ]
    }
   ],
   "source": [
    "model.compile(loss = 'binary_crossentropy',\n",
    "              optimizer = tf.keras.optimizers.Adam(),\n",
    "              metrics = ['accuracy'])\n",
    "model_history = model.fit(Train_sentences,\n",
    "                          Train_labels,\n",
    "                          epochs = 5,\n",
    "                          validation_data = (Val_sentences,Val_labels))"
   ]
  },
  {
   "cell_type": "code",
   "execution_count": 61,
   "metadata": {},
   "outputs": [],
   "source": [
    "from sklearn.metrics import accuracy_score, precision_recall_fscore_support\n",
    "\n",
    "def calculate_results(y_true, y_pred):\n",
    "  \"\"\"\n",
    "  Calculates model accuracy, precision, recall and f1 score of a binary classification model.\n",
    "\n",
    "  Args:\n",
    "  -----\n",
    "  y_true = true labels in the form of a 1D array\n",
    "  y_pred = predicted labels in the form of a 1D array\n",
    "\n",
    "  Returns a dictionary of accuracy, precision, recall, f1-score.\n",
    "  \"\"\"\n",
    "  # Calculate model accuracy\n",
    "  model_accuracy = accuracy_score(y_true, y_pred) * 100\n",
    "  # Calculate model precision, recall and f1 score using \"weighted\" average\n",
    "  model_precision, model_recall, model_f1, _ = precision_recall_fscore_support(y_true, y_pred, average=\"weighted\")\n",
    "  model_results = {\"accuracy\": model_accuracy,\n",
    "                  \"precision\": model_precision,\n",
    "                  \"recall\": model_recall,\n",
    "                  \"f1\": model_f1}\n",
    "  return model_results"
   ]
  },
  {
   "cell_type": "code",
   "execution_count": 62,
   "metadata": {},
   "outputs": [
    {
     "name": "stdout",
     "output_type": "stream",
     "text": [
      "36/36 [==============================] - 6s 20ms/step\n"
     ]
    },
    {
     "data": {
      "text/plain": [
       "array([[1.6289806e-01],\n",
       "       [1.0126011e-04],\n",
       "       [7.1551945e-06],\n",
       "       [1.4978070e-04],\n",
       "       [3.4152381e-05],\n",
       "       [1.5440255e-05],\n",
       "       [9.0542209e-01],\n",
       "       [5.5006435e-03],\n",
       "       [9.9222910e-01],\n",
       "       [3.7777747e-04]], dtype=float32)"
      ]
     },
     "execution_count": 62,
     "metadata": {},
     "output_type": "execute_result"
    }
   ],
   "source": [
    "model_pred_probs = model.predict(Val_sentences)\n",
    "model_pred_probs[:10]"
   ]
  },
  {
   "cell_type": "code",
   "execution_count": 63,
   "metadata": {},
   "outputs": [
    {
     "data": {
      "text/plain": [
       "<tf.Tensor: shape=(10,), dtype=float32, numpy=array([0., 0., 0., 0., 0., 0., 1., 0., 1., 0.], dtype=float32)>"
      ]
     },
     "execution_count": 63,
     "metadata": {},
     "output_type": "execute_result"
    }
   ],
   "source": [
    "model_preds = tf.squeeze(tf.round(model_pred_probs))\n",
    "model_preds[:10]"
   ]
  },
  {
   "cell_type": "code",
   "execution_count": 64,
   "metadata": {},
   "outputs": [
    {
     "data": {
      "text/plain": [
       "{'accuracy': 87.77484608619174,\n",
       " 'precision': 0.8732342782690036,\n",
       " 'recall': 0.8777484608619174,\n",
       " 'f1': 0.8749747297002402}"
      ]
     },
     "execution_count": 64,
     "metadata": {},
     "output_type": "execute_result"
    }
   ],
   "source": [
    "model_results = calculate_results(Val_labels, model_preds)\n",
    "model_results"
   ]
  },
  {
   "cell_type": "code",
   "execution_count": 65,
   "metadata": {},
   "outputs": [
    {
     "data": {
      "text/html": [
       "<div>\n",
       "<style scoped>\n",
       "    .dataframe tbody tr th:only-of-type {\n",
       "        vertical-align: middle;\n",
       "    }\n",
       "\n",
       "    .dataframe tbody tr th {\n",
       "        vertical-align: top;\n",
       "    }\n",
       "\n",
       "    .dataframe thead th {\n",
       "        text-align: right;\n",
       "    }\n",
       "</style>\n",
       "<table border=\"1\" class=\"dataframe\">\n",
       "  <thead>\n",
       "    <tr style=\"text-align: right;\">\n",
       "      <th></th>\n",
       "      <th>text</th>\n",
       "      <th>target</th>\n",
       "      <th>pred</th>\n",
       "      <th>pred_prob</th>\n",
       "    </tr>\n",
       "  </thead>\n",
       "  <tbody>\n",
       "    <tr>\n",
       "      <th>0</th>\n",
       "      <td>When he arrived at a juvenile detention center...</td>\n",
       "      <td>0</td>\n",
       "      <td>0.0</td>\n",
       "      <td>0.162898</td>\n",
       "    </tr>\n",
       "    <tr>\n",
       "      <th>1</th>\n",
       "      <td>Nowadays, Sid’s game is completely being destr...</td>\n",
       "      <td>0</td>\n",
       "      <td>0.0</td>\n",
       "      <td>0.000101</td>\n",
       "    </tr>\n",
       "    <tr>\n",
       "      <th>2</th>\n",
       "      <td>If you're wondering why Libtard Twitter has go...</td>\n",
       "      <td>0</td>\n",
       "      <td>0.0</td>\n",
       "      <td>0.000007</td>\n",
       "    </tr>\n",
       "    <tr>\n",
       "      <th>3</th>\n",
       "      <td>Next time on #Casualty! Tune in Saturday 21.20...</td>\n",
       "      <td>0</td>\n",
       "      <td>0.0</td>\n",
       "      <td>0.000150</td>\n",
       "    </tr>\n",
       "    <tr>\n",
       "      <th>4</th>\n",
       "      <td>\"Amazing show, amazing voice!\" We've been inun...</td>\n",
       "      <td>0</td>\n",
       "      <td>0.0</td>\n",
       "      <td>0.000034</td>\n",
       "    </tr>\n",
       "  </tbody>\n",
       "</table>\n",
       "</div>"
      ],
      "text/plain": [
       "                                                text  target  pred  pred_prob\n",
       "0  When he arrived at a juvenile detention center...       0   0.0   0.162898\n",
       "1  Nowadays, Sid’s game is completely being destr...       0   0.0   0.000101\n",
       "2  If you're wondering why Libtard Twitter has go...       0   0.0   0.000007\n",
       "3  Next time on #Casualty! Tune in Saturday 21.20...       0   0.0   0.000150\n",
       "4  \"Amazing show, amazing voice!\" We've been inun...       0   0.0   0.000034"
      ]
     },
     "execution_count": 65,
     "metadata": {},
     "output_type": "execute_result"
    }
   ],
   "source": [
    "val_df = pd.DataFrame({\"text\": Val_sentences,\n",
    "                       \"target\": Val_labels,\n",
    "                       \"pred\": model_preds,\n",
    "                       \"pred_prob\": tf.squeeze(model_pred_probs)})\n",
    "val_df.head()"
   ]
  },
  {
   "cell_type": "code",
   "execution_count": 66,
   "metadata": {},
   "outputs": [
    {
     "data": {
      "text/html": [
       "<div>\n",
       "<style scoped>\n",
       "    .dataframe tbody tr th:only-of-type {\n",
       "        vertical-align: middle;\n",
       "    }\n",
       "\n",
       "    .dataframe tbody tr th {\n",
       "        vertical-align: top;\n",
       "    }\n",
       "\n",
       "    .dataframe thead th {\n",
       "        text-align: right;\n",
       "    }\n",
       "</style>\n",
       "<table border=\"1\" class=\"dataframe\">\n",
       "  <thead>\n",
       "    <tr style=\"text-align: right;\">\n",
       "      <th></th>\n",
       "      <th>text</th>\n",
       "      <th>target</th>\n",
       "      <th>pred</th>\n",
       "      <th>pred_prob</th>\n",
       "    </tr>\n",
       "  </thead>\n",
       "  <tbody>\n",
       "    <tr>\n",
       "      <th>46</th>\n",
       "      <td>. \"killed\" a Nigerian Nigerian Dauda Onoruoiza...</td>\n",
       "      <td>0</td>\n",
       "      <td>1.0</td>\n",
       "      <td>0.999892</td>\n",
       "    </tr>\n",
       "    <tr>\n",
       "      <th>782</th>\n",
       "      <td>if the shooting down of the plane was an accid...</td>\n",
       "      <td>0</td>\n",
       "      <td>1.0</td>\n",
       "      <td>0.999208</td>\n",
       "    </tr>\n",
       "    <tr>\n",
       "      <th>445</th>\n",
       "      <td>Hi! My friends and I are organizing a relief o...</td>\n",
       "      <td>0</td>\n",
       "      <td>1.0</td>\n",
       "      <td>0.995828</td>\n",
       "    </tr>\n",
       "    <tr>\n",
       "      <th>468</th>\n",
       "      <td>Along with , we’re doing relief operations for...</td>\n",
       "      <td>0</td>\n",
       "      <td>1.0</td>\n",
       "      <td>0.995584</td>\n",
       "    </tr>\n",
       "    <tr>\n",
       "      <th>557</th>\n",
       "      <td>in case of a nuclear attack to a sprawling bur...</td>\n",
       "      <td>0</td>\n",
       "      <td>1.0</td>\n",
       "      <td>0.995295</td>\n",
       "    </tr>\n",
       "    <tr>\n",
       "      <th>351</th>\n",
       "      <td>I've heard it's touched places throughout the ...</td>\n",
       "      <td>0</td>\n",
       "      <td>1.0</td>\n",
       "      <td>0.994648</td>\n",
       "    </tr>\n",
       "    <tr>\n",
       "      <th>1063</th>\n",
       "      <td>#BeInspired #nonfiction A British soldiers jou...</td>\n",
       "      <td>0</td>\n",
       "      <td>1.0</td>\n",
       "      <td>0.993130</td>\n",
       "    </tr>\n",
       "    <tr>\n",
       "      <th>582</th>\n",
       "      <td>How about some compassion for the families of ...</td>\n",
       "      <td>0</td>\n",
       "      <td>1.0</td>\n",
       "      <td>0.991903</td>\n",
       "    </tr>\n",
       "    <tr>\n",
       "      <th>1039</th>\n",
       "      <td>19.00 obs from #Kirkwall Airport showed sustai...</td>\n",
       "      <td>0</td>\n",
       "      <td>1.0</td>\n",
       "      <td>0.988749</td>\n",
       "    </tr>\n",
       "    <tr>\n",
       "      <th>414</th>\n",
       "      <td>real-time-ish NSW burned areas finally availab...</td>\n",
       "      <td>0</td>\n",
       "      <td>1.0</td>\n",
       "      <td>0.987509</td>\n",
       "    </tr>\n",
       "  </tbody>\n",
       "</table>\n",
       "</div>"
      ],
      "text/plain": [
       "                                                   text  target  pred  \\\n",
       "46    . \"killed\" a Nigerian Nigerian Dauda Onoruoiza...       0   1.0   \n",
       "782   if the shooting down of the plane was an accid...       0   1.0   \n",
       "445   Hi! My friends and I are organizing a relief o...       0   1.0   \n",
       "468   Along with , we’re doing relief operations for...       0   1.0   \n",
       "557   in case of a nuclear attack to a sprawling bur...       0   1.0   \n",
       "351   I've heard it's touched places throughout the ...       0   1.0   \n",
       "1063  #BeInspired #nonfiction A British soldiers jou...       0   1.0   \n",
       "582   How about some compassion for the families of ...       0   1.0   \n",
       "1039  19.00 obs from #Kirkwall Airport showed sustai...       0   1.0   \n",
       "414   real-time-ish NSW burned areas finally availab...       0   1.0   \n",
       "\n",
       "      pred_prob  \n",
       "46     0.999892  \n",
       "782    0.999208  \n",
       "445    0.995828  \n",
       "468    0.995584  \n",
       "557    0.995295  \n",
       "351    0.994648  \n",
       "1063   0.993130  \n",
       "582    0.991903  \n",
       "1039   0.988749  \n",
       "414    0.987509  "
      ]
     },
     "execution_count": 66,
     "metadata": {},
     "output_type": "execute_result"
    }
   ],
   "source": [
    "most_wrong = val_df[val_df[\"target\"] != val_df[\"pred\"]].sort_values(\"pred_prob\", ascending=False)\n",
    "most_wrong[:10]"
   ]
  },
  {
   "cell_type": "code",
   "execution_count": 67,
   "metadata": {},
   "outputs": [
    {
     "name": "stdout",
     "output_type": "stream",
     "text": [
      "Target: 0, Pred: 1, Prob: 0.9998921155929565\n",
      "Text:\n",
      ". \"killed\" a Nigerian Nigerian Dauda Onoruoiza on Ukrainian plane with #FakeNews htt…\n",
      "\n",
      "----\n",
      "\n",
      "Target: 0, Pred: 1, Prob: 0.9992079138755798\n",
      "Text:\n",
      "if the shooting down of the plane was an accident (human error), why were the Iranians shooting mi… https://t.co/JesxuYkYVD\n",
      "\n",
      "----\n",
      "\n",
      "Target: 0, Pred: 1, Prob: 0.9958281517028809\n",
      "Text:\n",
      "Hi! My friends and I are organizing a relief operation in the nearby evacuation areas in our city. We'll be volunte… https://t.co/gNobrzzKoW\n",
      "\n",
      "----\n",
      "\n",
      "Target: 0, Pred: 1, Prob: 0.9955840110778809\n",
      "Text:\n",
      "Along with , we’re doing relief operations for the survivors of the Taal Volcano Eruption. We’re reaching o…\n",
      "\n",
      "----\n",
      "\n",
      "Target: 0, Pred: 1, Prob: 0.9952945709228516\n",
      "Text:\n",
      "in case of a nuclear attack to a sprawling bureaucratic agency tasked with mobilizing help in the midst of disaster.\n",
      "\n",
      "----\n",
      "\n",
      "Target: 0, Pred: 1, Prob: 0.9946480989456177\n",
      "Text:\n",
      "I've heard it's touched places throughout the UK....but thankfully no reports of any injuries or f… https://t.co/MQqACO4S11\n",
      "\n",
      "----\n",
      "\n",
      "Target: 0, Pred: 1, Prob: 0.9931303858757019\n",
      "Text:\n",
      "#BeInspired #nonfiction A British soldiers journey into the depths of #mentalillness after a number of traumatic life…\n",
      "\n",
      "----\n",
      "\n",
      "Target: 0, Pred: 1, Prob: 0.9919025301933289\n",
      "Text:\n",
      "How about some compassion for the families of the Ukrainian airplane shot down \"by accident\" ?🙏🙏🙏🙏🙏🙏🙏🙏🙏🙏🙏🙏🙏🙏🙏🙏🙏🙏🙏🙏🙏🙏🙏🙏🙏🙏🙏🙏🙏🙏🙏🙏🙏🙏\n",
      "\n",
      "----\n",
      "\n",
      "Target: 0, Pred: 1, Prob: 0.9887492656707764\n",
      "Text:\n",
      "19.00 obs from #Kirkwall Airport showed sustained wind speeds in the preceding hour of 74.1 km/h (46.0 mph) or Force 8 (…\n",
      "\n",
      "----\n",
      "\n",
      "Target: 0, Pred: 1, Prob: 0.9875085949897766\n",
      "Text:\n",
      "real-time-ish NSW burned areas finally available for the current fire season as a webservice and holy shit just look at i…\n",
      "\n",
      "----\n",
      "\n"
     ]
    }
   ],
   "source": [
    "for row in most_wrong[:10].itertuples(): # loop through the top 10 rows (change the index to view different rows)\n",
    "  _, text, target, pred, prob = row\n",
    "  print(f\"Target: {target}, Pred: {int(pred)}, Prob: {prob}\")\n",
    "  print(f\"Text:\\n{text}\\n\")\n",
    "  print(\"----\\n\")"
   ]
  },
  {
   "cell_type": "code",
   "execution_count": 68,
   "metadata": {},
   "outputs": [
    {
     "name": "stdout",
     "output_type": "stream",
     "text": [
      "Target: 1, Pred: 0, Prob: 6.812390347477049e-05\n",
      "Text:\n",
      "It seems a thunderstorm is heading our way. Better retreat to a cave. A tent won't stand a chance.\n",
      "\n",
      "----\n",
      "\n",
      "Target: 1, Pred: 0, Prob: 5.9176261856919155e-05\n",
      "Text:\n",
      "I just survived the London rush hour tube ride (which is basically like surviving the zombie apocalypse), but what… https://t.co/OC1WtHjXiw\n",
      "\n",
      "----\n",
      "\n",
      "Target: 1, Pred: 0, Prob: 5.30556462763343e-05\n",
      "Text:\n",
      "I'm not crying, you are! A fur parent makes sure her fur baby is safe during a rescue operation in Talisay, Batangas. 🐶 #Taa…\n",
      "\n",
      "----\n",
      "\n",
      "Target: 1, Pred: 0, Prob: 4.5020329707767814e-05\n",
      "Text:\n",
      "#Islamabad alert! A negative blood required in Islamabad today, please contact me if someone here with A negative blo…\n",
      "\n",
      "----\n",
      "\n",
      "Target: 1, Pred: 0, Prob: 2.9518754672608338e-05\n",
      "Text:\n",
      "HIJACK : REGENTS PARK. JHB. GP. GUN METAL GREY FORD FIESTA. XZT022GP.\n",
      "\n",
      "----\n",
      "\n",
      "Target: 1, Pred: 0, Prob: 2.9518754672608338e-05\n",
      "Text:\n",
      "HIJACK : REGENTS PARK. JHB. GP. GUN METAL GREY FORD FIESTA. XZT022GP.\n",
      "\n",
      "----\n",
      "\n",
      "Target: 1, Pred: 0, Prob: 1.746286216075532e-05\n",
      "Text:\n",
      "Tennis player quits after coughing fit at smoky qualifiers https://t.co/E1P3kgpLop It is outrageous that the…\n",
      "\n",
      "----\n",
      "\n"
     ]
    }
   ],
   "source": [
    "for row in most_wrong[-7:].itertuples():\n",
    "  _, text, target, pred, prob = row\n",
    "  print(f\"Target: {target}, Pred: {int(pred)}, Prob: {prob}\")\n",
    "  print(f\"Text:\\n{text}\\n\")\n",
    "  print(\"----\\n\")"
   ]
  },
  {
   "cell_type": "code",
   "execution_count": null,
   "metadata": {},
   "outputs": [],
   "source": []
  }
 ],
 "metadata": {
  "kernelspec": {
   "display_name": "Python 3.9.6 64-bit",
   "language": "python",
   "name": "python3"
  },
  "language_info": {
   "codemirror_mode": {
    "name": "ipython",
    "version": 3
   },
   "file_extension": ".py",
   "mimetype": "text/x-python",
   "name": "python",
   "nbconvert_exporter": "python",
   "pygments_lexer": "ipython3",
   "version": "3.9.6"
  },
  "orig_nbformat": 4,
  "vscode": {
   "interpreter": {
    "hash": "11938c6bc6919ae2720b4d5011047913343b08a43b18698fd82dedb0d4417594"
   }
  }
 },
 "nbformat": 4,
 "nbformat_minor": 2
}
